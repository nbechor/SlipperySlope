{
 "cells": [
  {
   "cell_type": "markdown",
   "metadata": {},
   "source": [
    "## Notebook 1: Connecting Address and Weather Grid Points\n",
    "\n",
    "This notebook is the pre-coding for generating the \"dictionary\" that connects each address coordinates in the city with its nearest weather grid point.\n",
    "\n",
    "The reason for doing this ahead of time is that interpolation (even nearest neighbor!) takes time to run, while addresses in an established city such as Cambridge change slowly. \n",
    "\n",
    "The \"dictionary\" needs to be re-populated each time there's a new latitude/longitude set in the data, or each time there's a new 'Building ID' in Master_Address.\n",
    "\n",
    "Required Python packages: pandas, numpy, and geopy\n",
    "\n"
   ]
  },
  {
   "cell_type": "code",
   "execution_count": 1,
   "metadata": {},
   "outputs": [],
   "source": [
    "import pandas as pd\n",
    "import numpy as np\n",
    "\n",
    "# loading city addresses:\n",
    "masterAddress = pd.read_csv('/Users/nbechor/Insight/SlipperySlope/data/external//Master_Addresses_List.csv')"
   ]
  },
  {
   "cell_type": "code",
   "execution_count": 2,
   "metadata": {},
   "outputs": [
    {
     "data": {
      "text/plain": [
       "Index(['Address ID', 'Full Address', 'Street Number', 'Street Name',\n",
       "       'Building ID', 'MapLot', 'Latitude', 'Longitude', 'Type', 'Zip Code',\n",
       "       'Neighborhood', 'Election Ward', 'Election Precinct',\n",
       "       'Election Polling Address', 'Representation District',\n",
       "       'Senate District', 'CAD Reporting District', 'Police Sector',\n",
       "       'Police Car Route', 'Police Walking Route', 'Police Neighborhood',\n",
       "       'Police Business District', 'Census Tract 2010',\n",
       "       'Census Block Group 2010', 'Census Block 2010', 'Census Block ID 2010',\n",
       "       'Street Sweeping District'],\n",
       "      dtype='object')"
      ]
     },
     "execution_count": 2,
     "metadata": {},
     "output_type": "execute_result"
    }
   ],
   "source": [
    "masterAddress.keys()"
   ]
  },
  {
   "cell_type": "markdown",
   "metadata": {},
   "source": [
    "The columns that are relevant here are the 'Building ID', which we will use for identifying buildings later on, and coordinates: 'Latitude', and 'Longitude'.\n",
    "\n",
    "\n",
    "\n",
    "The code also relies on the class 'weatherClass', which includes the weather grid points:"
   ]
  },
  {
   "cell_type": "code",
   "execution_count": 3,
   "metadata": {},
   "outputs": [],
   "source": [
    "# Reading the weather grid:\n",
    "import sys\n",
    "sys.path.insert(0, '/Users/nbechor/Insight/SlipperySlope/src/data')\n",
    "\n",
    "from weatherData import weatherData\n",
    "\n",
    "# weather_info includes the fields lats, lons, which are the weather data grid coordinates\n",
    "# and their identifiers:\n",
    "weather_info = weatherData()\n",
    "    "
   ]
  },
  {
   "cell_type": "code",
   "execution_count": 4,
   "metadata": {},
   "outputs": [],
   "source": [
    "identifierLocation = pd.DataFrame()"
   ]
  },
  {
   "cell_type": "code",
   "execution_count": 5,
   "metadata": {},
   "outputs": [],
   "source": [
    "identifierLocation['Building ID'] = masterAddress['Building ID'].unique()"
   ]
  },
  {
   "cell_type": "code",
   "execution_count": 6,
   "metadata": {},
   "outputs": [],
   "source": [
    "identifierLocation['lat'] = masterAddress['Latitude']\n",
    "identifierLocation['lon'] = masterAddress['Longitude']\n",
    "identifierLocation['identifier'] = np.zeros(identifierLocation.shape[0]).astype('int')\n"
   ]
  },
  {
   "cell_type": "code",
   "execution_count": null,
   "metadata": {},
   "outputs": [],
   "source": [
    "N = len(weather_info.identifier)\n",
    "def find_nearest_weather_point(latI,lonI):\n",
    "    from geopy.distance import geodesic\n",
    "    minDist = 4000\n",
    "    for i in range(0,N):\n",
    "        lat = weather_info.lats[i]\n",
    "        lon = weather_info.lons[i]\n",
    "        dist = geodesic([lat,lon],[latI,lonI]).meters\n",
    "        if dist<minDist:\n",
    "            minDist = dist\n",
    "            nearestIdentifier = weather_info.identifier[i]\n",
    "    return nearestIdentifier\n",
    "            "
   ]
  },
  {
   "cell_type": "markdown",
   "metadata": {},
   "source": [
    "Testing the code above for the first 10 buildings in the Master_Address.csv file:"
   ]
  },
  {
   "cell_type": "code",
   "execution_count": null,
   "metadata": {},
   "outputs": [],
   "source": [
    "for i in range(0,10):\n",
    "    identifierLocation['identifier'].iloc[i]= find_nearest_weather_point(identifierLocation['lat'].iloc[i],\n",
    "                                                             identifierLocation['lon'].iloc[i])\n",
    "    "
   ]
  },
  {
   "cell_type": "markdown",
   "metadata": {},
   "source": [
    "Checking the output of the full run:"
   ]
  },
  {
   "cell_type": "code",
   "execution_count": 7,
   "metadata": {},
   "outputs": [],
   "source": [
    "identifierLocation = pd.read_csv('/Users/nbechor/Insight/SlipperySlope/data/processed/BldgID2WeatherIdentifier.csv')\n"
   ]
  },
  {
   "cell_type": "code",
   "execution_count": 8,
   "metadata": {},
   "outputs": [
    {
     "data": {
      "text/plain": [
       "280"
      ]
     },
     "execution_count": 8,
     "metadata": {},
     "output_type": "execute_result"
    }
   ],
   "source": [
    "len(identifierLocation['identifier'].unique())"
   ]
  },
  {
   "cell_type": "markdown",
   "metadata": {},
   "source": [
    "In other words, of the 945 grid points for weather, only 280 are going to actually be useful. The rest don't need to be updated. \n",
    "\n",
    "Final check: Plotting the locations:"
   ]
  },
  {
   "cell_type": "code",
   "execution_count": 9,
   "metadata": {},
   "outputs": [
    {
     "data": {
      "text/plain": [
       "<matplotlib.collections.PathCollection at 0x11a951550>"
      ]
     },
     "execution_count": 9,
     "metadata": {},
     "output_type": "execute_result"
    },
    {
     "data": {
      "image/png": "[encoded data removed]",
      "text/plain": [
       "<Figure size 432x288 with 1 Axes>"
      ]
     },
     "metadata": {
      "needs_background": "light"
     },
     "output_type": "display_data"
    }
   ],
   "source": [
    "%matplotlib inline\n",
    "from matplotlib import pyplot as plt\n",
    "\n",
    "\n",
    "plt.scatter(identifierLocation['lon'],identifierLocation['lat'])"
   ]
  },
  {
   "cell_type": "markdown",
   "metadata": {},
   "source": [
    "The plot shows the locations of buildings that are included in the analysis. "
   ]
  },
  {
   "cell_type": "code",
   "execution_count": 11,
   "metadata": {},
   "outputs": [
    {
     "name": "stdout",
     "output_type": "stream",
     "text": [
      "The number of buildings in Cambridge, according to city data: 12518\n",
      "The number of buildings included in the analysis: 12518\n"
     ]
    }
   ],
   "source": [
    "print('The number of buildings in Cambridge, according to city data:',len(masterAddress['Building ID'].unique()))\n",
    "print('The number of buildings included in the analysis:',identifierLocation.shape[0])"
   ]
  },
  {
   "cell_type": "markdown",
   "metadata": {},
   "source": [
    "I now have a DataFrame with entries for each building in the city, its coordinates, and an identifier for the nearest weather grid point.\n",
    "\n",
    "'All' that's left is to match is complaint, historic complaint, and ticket to each of these locations. This is done in Notebook #2."
   ]
  },
  {
   "cell_type": "code",
   "execution_count": null,
   "metadata": {},
   "outputs": [],
   "source": []
  }
 ],
 "metadata": {
  "kernelspec": {
   "display_name": "Python 3",
   "language": "python",
   "name": "python3"
  },
  "language_info": {
   "codemirror_mode": {
    "name": "ipython",
    "version": 3
   },
   "file_extension": ".py",
   "mimetype": "text/x-python",
   "name": "python",
   "nbconvert_exporter": "python",
   "pygments_lexer": "ipython3",
   "version": "3.7.4"
  }
 },
 "nbformat": 4,
 "nbformat_minor": 4
}
