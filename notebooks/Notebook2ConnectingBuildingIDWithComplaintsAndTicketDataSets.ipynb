{
 "cells": [
  {
   "cell_type": "markdown",
   "metadata": {},
   "source": [
    "## Notebook 2: Adding Building ID to Complaints, Historic Complaints, and 311 Data\n",
    "\n",
    "The city data provide address and coordinates, which do not always match a specific building in the Master_Address.csv file. I am interested in building, and not address (a building can have multiple addresses, as in appartment building), so I need to tie the snow/ice events to specific buildings.\n",
    "\n",
    "This notebook explores the code to tie snow/ice events with building ID using address and location data, as available. \n",
    "\n",
    "The snow/ice events come from 3 datasets:\n",
    "\n",
    "    Snow_Ice_Sidewalk_Ordinance_Violations.csv\n",
    "    Unshoveled_Icy_Sidewalk_Complaints.csv\n",
    "    Commonwealth_Connect_Service_Requests.csv "
   ]
  },
  {
   "cell_type": "code",
   "execution_count": 2,
   "metadata": {},
   "outputs": [
    {
     "data": {
      "text/html": [
       "<div>\n",
       "<style scoped>\n",
       "    .dataframe tbody tr th:only-of-type {\n",
       "        vertical-align: middle;\n",
       "    }\n",
       "\n",
       "    .dataframe tbody tr th {\n",
       "        vertical-align: top;\n",
       "    }\n",
       "\n",
       "    .dataframe thead th {\n",
       "        text-align: right;\n",
       "    }\n",
       "</style>\n",
       "<table border=\"1\" class=\"dataframe\">\n",
       "  <thead>\n",
       "    <tr style=\"text-align: right;\">\n",
       "      <th></th>\n",
       "      <th>TICKET NUMBER</th>\n",
       "      <th>TICKET TYPE</th>\n",
       "      <th>OFFENSE DATE</th>\n",
       "      <th>ISSUANCE DATE</th>\n",
       "      <th>TIME OF DAY</th>\n",
       "      <th>TICKET LOCATION</th>\n",
       "    </tr>\n",
       "  </thead>\n",
       "  <tbody>\n",
       "    <tr>\n",
       "      <th>0</th>\n",
       "      <td>17189</td>\n",
       "      <td>Snow &amp; Ice</td>\n",
       "      <td>02/25/2011</td>\n",
       "      <td>02/28/2011</td>\n",
       "      <td>8:27</td>\n",
       "      <td>96 FOSTER ST\\nCambridge, MA\\n(42.376162139, -7...</td>\n",
       "    </tr>\n",
       "    <tr>\n",
       "      <th>1</th>\n",
       "      <td>16819</td>\n",
       "      <td>Snow &amp; Ice</td>\n",
       "      <td>02/07/2011</td>\n",
       "      <td>02/08/2011</td>\n",
       "      <td>12:08</td>\n",
       "      <td>94-98 PLEASANT ST\\nCambridge, MA\\n(42.36185930...</td>\n",
       "    </tr>\n",
       "    <tr>\n",
       "      <th>2</th>\n",
       "      <td>17396</td>\n",
       "      <td>Snow &amp; Ice</td>\n",
       "      <td>02/14/2013</td>\n",
       "      <td>02/15/2013</td>\n",
       "      <td>11:42</td>\n",
       "      <td>406 NORFOLK ST\\nCambridge, MA\\n(42.374172573, ...</td>\n",
       "    </tr>\n",
       "    <tr>\n",
       "      <th>3</th>\n",
       "      <td>9669</td>\n",
       "      <td>Snow &amp; Ice</td>\n",
       "      <td>02/26/2008</td>\n",
       "      <td>02/26/2008</td>\n",
       "      <td>12:00</td>\n",
       "      <td>38 SACRAMENTO ST\\nCambridge, MA\\n(42.382551595...</td>\n",
       "    </tr>\n",
       "    <tr>\n",
       "      <th>4</th>\n",
       "      <td>1001</td>\n",
       "      <td>Snow &amp; Ice</td>\n",
       "      <td>12/29/2010</td>\n",
       "      <td>12/29/2010</td>\n",
       "      <td>12:45</td>\n",
       "      <td>235 THIRD ST\\nCambridge, MA\\n(42.367117597, -7...</td>\n",
       "    </tr>\n",
       "    <tr>\n",
       "      <th>...</th>\n",
       "      <td>...</td>\n",
       "      <td>...</td>\n",
       "      <td>...</td>\n",
       "      <td>...</td>\n",
       "      <td>...</td>\n",
       "      <td>...</td>\n",
       "    </tr>\n",
       "    <tr>\n",
       "      <th>6540</th>\n",
       "      <td>21222</td>\n",
       "      <td>Snow &amp; Ice</td>\n",
       "      <td>01/24/2019</td>\n",
       "      <td>04/17/2019</td>\n",
       "      <td>1899-12-31T12:10:00.000</td>\n",
       "      <td>6 STANDISH ST\\nCambridge, MA\\n(42.381472, -71....</td>\n",
       "    </tr>\n",
       "    <tr>\n",
       "      <th>6541</th>\n",
       "      <td>21229</td>\n",
       "      <td>Snow &amp; Ice</td>\n",
       "      <td>02/14/2019</td>\n",
       "      <td>04/17/2019</td>\n",
       "      <td>1899-12-31T10:43:00.000</td>\n",
       "      <td>12 TUFTS ST\\nCambridge, MA\\n(42.357266, -71.11...</td>\n",
       "    </tr>\n",
       "    <tr>\n",
       "      <th>6542</th>\n",
       "      <td>21371</td>\n",
       "      <td>Snow &amp; Ice</td>\n",
       "      <td>03/07/2019</td>\n",
       "      <td>04/17/2019</td>\n",
       "      <td>1899-12-31T11:38:00.000</td>\n",
       "      <td>156 THORNDIKE ST\\nCambridge, MA\\n(42.370299, -...</td>\n",
       "    </tr>\n",
       "    <tr>\n",
       "      <th>6543</th>\n",
       "      <td>21239</td>\n",
       "      <td>Snow &amp; Ice</td>\n",
       "      <td>02/14/2019</td>\n",
       "      <td>04/17/2019</td>\n",
       "      <td>1899-12-31T10:48:00.000</td>\n",
       "      <td>338 HARVARD ST\\nCambridge, MA\\n(42.370593, -71...</td>\n",
       "    </tr>\n",
       "    <tr>\n",
       "      <th>6544</th>\n",
       "      <td>20086</td>\n",
       "      <td>Snow &amp; Ice</td>\n",
       "      <td>01/11/2018</td>\n",
       "      <td>01/18/2018</td>\n",
       "      <td>1899-12-31T12:10:00.000</td>\n",
       "      <td>65 Columbia Street\\nCambridge, MA\\n(42.365094,...</td>\n",
       "    </tr>\n",
       "  </tbody>\n",
       "</table>\n",
       "<p>6545 rows × 6 columns</p>\n",
       "</div>"
      ],
      "text/plain": [
       "      TICKET NUMBER TICKET TYPE OFFENSE DATE ISSUANCE DATE  \\\n",
       "0             17189  Snow & Ice   02/25/2011    02/28/2011   \n",
       "1             16819  Snow & Ice   02/07/2011    02/08/2011   \n",
       "2             17396  Snow & Ice   02/14/2013    02/15/2013   \n",
       "3              9669  Snow & Ice   02/26/2008    02/26/2008   \n",
       "4              1001  Snow & Ice   12/29/2010    12/29/2010   \n",
       "...             ...         ...          ...           ...   \n",
       "6540          21222  Snow & Ice   01/24/2019    04/17/2019   \n",
       "6541          21229  Snow & Ice   02/14/2019    04/17/2019   \n",
       "6542          21371  Snow & Ice   03/07/2019    04/17/2019   \n",
       "6543          21239  Snow & Ice   02/14/2019    04/17/2019   \n",
       "6544          20086  Snow & Ice   01/11/2018    01/18/2018   \n",
       "\n",
       "                  TIME OF DAY  \\\n",
       "0                        8:27   \n",
       "1                       12:08   \n",
       "2                       11:42   \n",
       "3                       12:00   \n",
       "4                       12:45   \n",
       "...                       ...   \n",
       "6540  1899-12-31T12:10:00.000   \n",
       "6541  1899-12-31T10:43:00.000   \n",
       "6542  1899-12-31T11:38:00.000   \n",
       "6543  1899-12-31T10:48:00.000   \n",
       "6544  1899-12-31T12:10:00.000   \n",
       "\n",
       "                                        TICKET LOCATION  \n",
       "0     96 FOSTER ST\\nCambridge, MA\\n(42.376162139, -7...  \n",
       "1     94-98 PLEASANT ST\\nCambridge, MA\\n(42.36185930...  \n",
       "2     406 NORFOLK ST\\nCambridge, MA\\n(42.374172573, ...  \n",
       "3     38 SACRAMENTO ST\\nCambridge, MA\\n(42.382551595...  \n",
       "4     235 THIRD ST\\nCambridge, MA\\n(42.367117597, -7...  \n",
       "...                                                 ...  \n",
       "6540  6 STANDISH ST\\nCambridge, MA\\n(42.381472, -71....  \n",
       "6541  12 TUFTS ST\\nCambridge, MA\\n(42.357266, -71.11...  \n",
       "6542  156 THORNDIKE ST\\nCambridge, MA\\n(42.370299, -...  \n",
       "6543  338 HARVARD ST\\nCambridge, MA\\n(42.370593, -71...  \n",
       "6544  65 Columbia Street\\nCambridge, MA\\n(42.365094,...  \n",
       "\n",
       "[6545 rows x 6 columns]"
      ]
     },
     "execution_count": 2,
     "metadata": {},
     "output_type": "execute_result"
    }
   ],
   "source": [
    "# Starting with Commonwealth_Connect_Service_Requests.csv\n",
    "import pandas as pd\n",
    "import numpy as np\n",
    "\n",
    "tickets = pd.read_csv('/Users/nbechor/Insight/SlipperySlope/data/external/Snow_Ice_Sidewalk_Ordinance_Violations.csv')\n",
    "\n",
    "tickets"
   ]
  },
  {
   "cell_type": "code",
   "execution_count": 3,
   "metadata": {},
   "outputs": [
    {
     "name": "stdout",
     "output_type": "stream",
     "text": [
      "ticket dates: 2007-12-04 to 2019-03-07\n"
     ]
    }
   ],
   "source": [
    "tickets['OFFENSE DATE'] = pd.to_datetime(tickets['OFFENSE DATE'],infer_datetime_format=True)\n",
    "tickets['OFFENSE DATE'] = tickets['OFFENSE DATE'].dt.date\n",
    "\n",
    "print('ticket dates:',min(tickets['OFFENSE DATE']),'to',max(tickets['OFFENSE DATE']))"
   ]
  },
  {
   "cell_type": "markdown",
   "metadata": {},
   "source": [
    "=> there are 6545 tickets, between 2007 and 2019. These will be our validation data.\n",
    "\n",
    "Where are these located in the city?"
   ]
  },
  {
   "cell_type": "code",
   "execution_count": 21,
   "metadata": {},
   "outputs": [
    {
     "name": "stdout",
     "output_type": "stream",
     "text": [
      "Range of Latitudes for ticket coordinates: 42.353576117 42.402125568\n",
      "Range of Longitudes for ticket coordinates:  -71.071717276  -71.160199931\n"
     ]
    },
    {
     "data": {
      "text/plain": [
       "TICKET NUMBER        int64\n",
       "TICKET TYPE         object\n",
       "OFFENSE DATE        object\n",
       "ISSUANCE DATE       object\n",
       "TIME OF DAY         object\n",
       "TICKET LOCATION     object\n",
       "lat                float64\n",
       "lon                float64\n",
       "dtype: object"
      ]
     },
     "execution_count": 21,
     "metadata": {},
     "output_type": "execute_result"
    }
   ],
   "source": [
    "# extracting the lat/lon info to answer the question of where they are located:\n",
    "extract = tickets['TICKET LOCATION']\n",
    "\n",
    "extract = extract.apply(lambda x: x.split('(',1)[1])\n",
    "extract = extract.apply(lambda x: x.split(')',1)[0])\n",
    "\n",
    "tickets['lat'] = extract.apply(lambda x: x.split(',',1)[0])\n",
    "tickets['lon'] = extract.apply(lambda x: x.split(',',1)[1])\n",
    "\n",
    "print('Range of Latitudes for ticket coordinates:',tickets['lat'].min(),tickets['lat'].max())\n",
    "print('Range of Longitudes for ticket coordinates:',tickets['lon'].min(),tickets['lon'].max())\n",
    "\n",
    "tickets['lat'] = tickets['lat'].astype('float') \n",
    "tickets['lon'] = tickets['lon'].astype('float') \n",
    "\n",
    "tickets.dtypes"
   ]
  },
  {
   "cell_type": "code",
   "execution_count": 22,
   "metadata": {},
   "outputs": [
    {
     "data": {
      "text/plain": [
       "<matplotlib.collections.PathCollection at 0x11c792150>"
      ]
     },
     "execution_count": 22,
     "metadata": {},
     "output_type": "execute_result"
    },
    {
     "data": {
      "image/png": "[encoded data removed]",
      "text/plain": [
       "<Figure size 432x288 with 1 Axes>"
      ]
     },
     "metadata": {
      "needs_background": "light"
     },
     "output_type": "display_data"
    }
   ],
   "source": [
    "%matplotlib inline\n",
    "from matplotlib import pyplot as plt\n",
    "\n",
    "plt.scatter(tickets['lon'],tickets['lat'])"
   ]
  },
  {
   "cell_type": "markdown",
   "metadata": {},
   "source": [
    "The figure above shows a dot for each location that received a ticket in between 2007 and 2019. The tickets are distributed all over the city! \n",
    "\n"
   ]
  },
  {
   "cell_type": "code",
   "execution_count": null,
   "metadata": {},
   "outputs": [],
   "source": []
  },
  {
   "cell_type": "markdown",
   "metadata": {},
   "source": [
    "The next stage is to tie these locations to an address and an identifier in the BldgID2WeatherIdentifier.csv file. Here I'm using a trick to make the code tun a little faster: only searching within a certain radius."
   ]
  },
  {
   "cell_type": "code",
   "execution_count": 36,
   "metadata": {},
   "outputs": [
    {
     "data": {
      "text/plain": [
       "Index(['Unnamed: 0', 'Building ID', 'lat', 'lon', 'identifier'], dtype='object')"
      ]
     },
     "execution_count": 36,
     "metadata": {},
     "output_type": "execute_result"
    }
   ],
   "source": [
    "identifierLocation = pd.read_csv('/Users/nbechor/Insight/SlipperySlope/data/processed/BldgID2WeatherIdentifier.csv')\n",
    "\n",
    "from geopy.distance import geodesic\n",
    "def find_nearest_building(df,latI,lonI):\n",
    "    minDist = 4000\n",
    "    for i in range(0,df.shape[0]):\n",
    "        lat = df['lat'].iloc[i]\n",
    "        lon = df['lon'].iloc[i]\n",
    "        dist = geodesic([lat,lon],[latI,lonI]).meters\n",
    "        if dist<minDist:\n",
    "            minDist = dist\n",
    "            nearestBuildingInDf = i\n",
    "    return nearestBuildingInDf\n",
    "\n",
    "identifierLocation.keys()"
   ]
  },
  {
   "cell_type": "code",
   "execution_count": 38,
   "metadata": {},
   "outputs": [
    {
     "name": "stdout",
     "output_type": "stream",
     "text": [
      "0.0019419780399999808 0.0035393061999997146\n"
     ]
    },
    {
     "name": "stderr",
     "output_type": "stream",
     "text": [
      "/Users/nbechor/Insight/noslipwalk/.venv/lib/python3.7/site-packages/ipykernel_launcher.py:26: SettingWithCopyWarning: \n",
      "A value is trying to be set on a copy of a slice from a DataFrame\n",
      "\n",
      "See the caveats in the documentation: https://pandas.pydata.org/pandas-docs/stable/user_guide/indexing.html#returning-a-view-versus-a-copy\n"
     ]
    },
    {
     "ename": "KeyboardInterrupt",
     "evalue": "",
     "output_type": "error",
     "traceback": [
      "\u001b[0;31m---------------------------------------------------------------------------\u001b[0m",
      "\u001b[0;31mKeyboardInterrupt\u001b[0m                         Traceback (most recent call last)",
      "\u001b[0;32m<ipython-input-38-9b52f4f4ee2e>\u001b[0m in \u001b[0;36m<module>\u001b[0;34m\u001b[0m\n\u001b[1;32m     22\u001b[0m     \u001b[0;31m# df now contains all the buildings withing the given lat/lon circle around the ticket location.\u001b[0m\u001b[0;34m\u001b[0m\u001b[0;34m\u001b[0m\u001b[0;34m\u001b[0m\u001b[0m\n\u001b[1;32m     23\u001b[0m     \u001b[0;31m# one of these buildings is the one that received the ticket:\u001b[0m\u001b[0;34m\u001b[0m\u001b[0;34m\u001b[0m\u001b[0;34m\u001b[0m\u001b[0m\n\u001b[0;32m---> 24\u001b[0;31m     \u001b[0mnearestBuildingIloc\u001b[0m \u001b[0;34m=\u001b[0m \u001b[0mfind_nearest_building\u001b[0m\u001b[0;34m(\u001b[0m\u001b[0mdf\u001b[0m\u001b[0;34m,\u001b[0m\u001b[0mlat\u001b[0m\u001b[0;34m,\u001b[0m\u001b[0mlon\u001b[0m\u001b[0;34m)\u001b[0m\u001b[0;34m\u001b[0m\u001b[0;34m\u001b[0m\u001b[0m\n\u001b[0m\u001b[1;32m     25\u001b[0m     \u001b[0mtmp\u001b[0m \u001b[0;34m=\u001b[0m \u001b[0mdf\u001b[0m\u001b[0;34m.\u001b[0m\u001b[0miloc\u001b[0m\u001b[0;34m[\u001b[0m\u001b[0mnearestBuildingIloc\u001b[0m\u001b[0;34m]\u001b[0m\u001b[0;34m\u001b[0m\u001b[0;34m\u001b[0m\u001b[0m\n\u001b[1;32m     26\u001b[0m     \u001b[0mtmp\u001b[0m\u001b[0;34m[\u001b[0m\u001b[0;34m'date'\u001b[0m\u001b[0;34m]\u001b[0m \u001b[0;34m=\u001b[0m \u001b[0mtickets\u001b[0m\u001b[0;34m[\u001b[0m\u001b[0;34m'OFFENSE DATE'\u001b[0m\u001b[0;34m]\u001b[0m\u001b[0;34m.\u001b[0m\u001b[0miloc\u001b[0m\u001b[0;34m[\u001b[0m\u001b[0mi\u001b[0m\u001b[0;34m]\u001b[0m\u001b[0;34m\u001b[0m\u001b[0;34m\u001b[0m\u001b[0m\n",
      "\u001b[0;32m<ipython-input-36-e7cdd3d22891>\u001b[0m in \u001b[0;36mfind_nearest_building\u001b[0;34m(df, latI, lonI)\u001b[0m\n\u001b[1;32m      7\u001b[0m         \u001b[0mlat\u001b[0m \u001b[0;34m=\u001b[0m \u001b[0mdf\u001b[0m\u001b[0;34m[\u001b[0m\u001b[0;34m'lat'\u001b[0m\u001b[0;34m]\u001b[0m\u001b[0;34m.\u001b[0m\u001b[0miloc\u001b[0m\u001b[0;34m[\u001b[0m\u001b[0mi\u001b[0m\u001b[0;34m]\u001b[0m\u001b[0;34m\u001b[0m\u001b[0;34m\u001b[0m\u001b[0m\n\u001b[1;32m      8\u001b[0m         \u001b[0mlon\u001b[0m \u001b[0;34m=\u001b[0m \u001b[0mdf\u001b[0m\u001b[0;34m[\u001b[0m\u001b[0;34m'lon'\u001b[0m\u001b[0;34m]\u001b[0m\u001b[0;34m.\u001b[0m\u001b[0miloc\u001b[0m\u001b[0;34m[\u001b[0m\u001b[0mi\u001b[0m\u001b[0;34m]\u001b[0m\u001b[0;34m\u001b[0m\u001b[0;34m\u001b[0m\u001b[0m\n\u001b[0;32m----> 9\u001b[0;31m         \u001b[0mdist\u001b[0m \u001b[0;34m=\u001b[0m \u001b[0mgeodesic\u001b[0m\u001b[0;34m(\u001b[0m\u001b[0;34m[\u001b[0m\u001b[0mlat\u001b[0m\u001b[0;34m,\u001b[0m\u001b[0mlon\u001b[0m\u001b[0;34m]\u001b[0m\u001b[0;34m,\u001b[0m\u001b[0;34m[\u001b[0m\u001b[0mlatI\u001b[0m\u001b[0;34m,\u001b[0m\u001b[0mlonI\u001b[0m\u001b[0;34m]\u001b[0m\u001b[0;34m)\u001b[0m\u001b[0;34m.\u001b[0m\u001b[0mmeters\u001b[0m\u001b[0;34m\u001b[0m\u001b[0;34m\u001b[0m\u001b[0m\n\u001b[0m\u001b[1;32m     10\u001b[0m         \u001b[0;32mif\u001b[0m \u001b[0mdist\u001b[0m\u001b[0;34m<\u001b[0m\u001b[0mminDist\u001b[0m\u001b[0;34m:\u001b[0m\u001b[0;34m\u001b[0m\u001b[0;34m\u001b[0m\u001b[0m\n\u001b[1;32m     11\u001b[0m             \u001b[0mminDist\u001b[0m \u001b[0;34m=\u001b[0m \u001b[0mdist\u001b[0m\u001b[0;34m\u001b[0m\u001b[0;34m\u001b[0m\u001b[0m\n",
      "\u001b[0;32m~/Insight/noslipwalk/.venv/lib/python3.7/site-packages/geopy/distance.py\u001b[0m in \u001b[0;36m__init__\u001b[0;34m(self, *args, **kwargs)\u001b[0m\n\u001b[1;32m    387\u001b[0m         \u001b[0mkwargs\u001b[0m\u001b[0;34m.\u001b[0m\u001b[0mpop\u001b[0m\u001b[0;34m(\u001b[0m\u001b[0;34m'iterations'\u001b[0m\u001b[0;34m,\u001b[0m \u001b[0;36m0\u001b[0m\u001b[0;34m)\u001b[0m\u001b[0;34m\u001b[0m\u001b[0;34m\u001b[0m\u001b[0m\n\u001b[1;32m    388\u001b[0m         \u001b[0mmajor\u001b[0m\u001b[0;34m,\u001b[0m \u001b[0mminor\u001b[0m\u001b[0;34m,\u001b[0m \u001b[0mf\u001b[0m \u001b[0;34m=\u001b[0m \u001b[0mself\u001b[0m\u001b[0;34m.\u001b[0m\u001b[0mELLIPSOID\u001b[0m\u001b[0;34m\u001b[0m\u001b[0;34m\u001b[0m\u001b[0m\n\u001b[0;32m--> 389\u001b[0;31m         \u001b[0msuper\u001b[0m\u001b[0;34m(\u001b[0m\u001b[0mgeodesic\u001b[0m\u001b[0;34m,\u001b[0m \u001b[0mself\u001b[0m\u001b[0;34m)\u001b[0m\u001b[0;34m.\u001b[0m\u001b[0m__init__\u001b[0m\u001b[0;34m(\u001b[0m\u001b[0;34m*\u001b[0m\u001b[0margs\u001b[0m\u001b[0;34m,\u001b[0m \u001b[0;34m**\u001b[0m\u001b[0mkwargs\u001b[0m\u001b[0;34m)\u001b[0m\u001b[0;34m\u001b[0m\u001b[0;34m\u001b[0m\u001b[0m\n\u001b[0m\u001b[1;32m    390\u001b[0m \u001b[0;34m\u001b[0m\u001b[0m\n\u001b[1;32m    391\u001b[0m     \u001b[0;32mdef\u001b[0m \u001b[0mset_ellipsoid\u001b[0m\u001b[0;34m(\u001b[0m\u001b[0mself\u001b[0m\u001b[0;34m,\u001b[0m \u001b[0mellipsoid\u001b[0m\u001b[0;34m)\u001b[0m\u001b[0;34m:\u001b[0m\u001b[0;34m\u001b[0m\u001b[0;34m\u001b[0m\u001b[0m\n",
      "\u001b[0;32m~/Insight/noslipwalk/.venv/lib/python3.7/site-packages/geopy/distance.py\u001b[0m in \u001b[0;36m__init__\u001b[0;34m(self, *args, **kwargs)\u001b[0m\n\u001b[1;32m    162\u001b[0m         \u001b[0;32melif\u001b[0m \u001b[0mlen\u001b[0m\u001b[0;34m(\u001b[0m\u001b[0margs\u001b[0m\u001b[0;34m)\u001b[0m \u001b[0;34m>\u001b[0m \u001b[0;36m1\u001b[0m\u001b[0;34m:\u001b[0m\u001b[0;34m\u001b[0m\u001b[0;34m\u001b[0m\u001b[0m\n\u001b[1;32m    163\u001b[0m             \u001b[0;32mfor\u001b[0m \u001b[0ma\u001b[0m\u001b[0;34m,\u001b[0m \u001b[0mb\u001b[0m \u001b[0;32min\u001b[0m \u001b[0mutil\u001b[0m\u001b[0;34m.\u001b[0m\u001b[0mpairwise\u001b[0m\u001b[0;34m(\u001b[0m\u001b[0margs\u001b[0m\u001b[0;34m)\u001b[0m\u001b[0;34m:\u001b[0m\u001b[0;34m\u001b[0m\u001b[0;34m\u001b[0m\u001b[0m\n\u001b[0;32m--> 164\u001b[0;31m                 \u001b[0mkilometers\u001b[0m \u001b[0;34m+=\u001b[0m \u001b[0mself\u001b[0m\u001b[0;34m.\u001b[0m\u001b[0mmeasure\u001b[0m\u001b[0;34m(\u001b[0m\u001b[0ma\u001b[0m\u001b[0;34m,\u001b[0m \u001b[0mb\u001b[0m\u001b[0;34m)\u001b[0m\u001b[0;34m\u001b[0m\u001b[0;34m\u001b[0m\u001b[0m\n\u001b[0m\u001b[1;32m    165\u001b[0m \u001b[0;34m\u001b[0m\u001b[0m\n\u001b[1;32m    166\u001b[0m         \u001b[0mkilometers\u001b[0m \u001b[0;34m+=\u001b[0m \u001b[0munits\u001b[0m\u001b[0;34m.\u001b[0m\u001b[0mkilometers\u001b[0m\u001b[0;34m(\u001b[0m\u001b[0;34m**\u001b[0m\u001b[0mkwargs\u001b[0m\u001b[0;34m)\u001b[0m\u001b[0;34m\u001b[0m\u001b[0;34m\u001b[0m\u001b[0m\n",
      "\u001b[0;32m~/Insight/noslipwalk/.venv/lib/python3.7/site-packages/geopy/distance.py\u001b[0m in \u001b[0;36mmeasure\u001b[0;34m(self, a, b)\u001b[0m\n\u001b[1;32m    415\u001b[0m                 \u001b[0mself\u001b[0m\u001b[0;34m.\u001b[0m\u001b[0mgeod\u001b[0m\u001b[0;34m.\u001b[0m\u001b[0ma\u001b[0m \u001b[0;34m==\u001b[0m \u001b[0mself\u001b[0m\u001b[0;34m.\u001b[0m\u001b[0mELLIPSOID\u001b[0m\u001b[0;34m[\u001b[0m\u001b[0;36m0\u001b[0m\u001b[0;34m]\u001b[0m \u001b[0;32mand\u001b[0m\u001b[0;34m\u001b[0m\u001b[0;34m\u001b[0m\u001b[0m\n\u001b[1;32m    416\u001b[0m                 self.geod.f == self.ELLIPSOID[2]):\n\u001b[0;32m--> 417\u001b[0;31m             \u001b[0mself\u001b[0m\u001b[0;34m.\u001b[0m\u001b[0mgeod\u001b[0m \u001b[0;34m=\u001b[0m \u001b[0mGeodesic\u001b[0m\u001b[0;34m(\u001b[0m\u001b[0mself\u001b[0m\u001b[0;34m.\u001b[0m\u001b[0mELLIPSOID\u001b[0m\u001b[0;34m[\u001b[0m\u001b[0;36m0\u001b[0m\u001b[0;34m]\u001b[0m\u001b[0;34m,\u001b[0m \u001b[0mself\u001b[0m\u001b[0;34m.\u001b[0m\u001b[0mELLIPSOID\u001b[0m\u001b[0;34m[\u001b[0m\u001b[0;36m2\u001b[0m\u001b[0;34m]\u001b[0m\u001b[0;34m)\u001b[0m\u001b[0;34m\u001b[0m\u001b[0;34m\u001b[0m\u001b[0m\n\u001b[0m\u001b[1;32m    418\u001b[0m \u001b[0;34m\u001b[0m\u001b[0m\n\u001b[1;32m    419\u001b[0m         s12 = self.geod.Inverse(lat1, lon1, lat2, lon2,\n",
      "\u001b[0;32m~/Insight/noslipwalk/.venv/lib/python3.7/site-packages/geographiclib/geodesic.py\u001b[0m in \u001b[0;36m__init__\u001b[0;34m(self, a, f)\u001b[0m\n\u001b[1;32m    316\u001b[0m     \u001b[0mself\u001b[0m\u001b[0;34m.\u001b[0m\u001b[0m_C3x\u001b[0m \u001b[0;34m=\u001b[0m \u001b[0mlist\u001b[0m\u001b[0;34m(\u001b[0m\u001b[0mrange\u001b[0m\u001b[0;34m(\u001b[0m\u001b[0mGeodesic\u001b[0m\u001b[0;34m.\u001b[0m\u001b[0mnC3x_\u001b[0m\u001b[0;34m)\u001b[0m\u001b[0;34m)\u001b[0m\u001b[0;34m\u001b[0m\u001b[0;34m\u001b[0m\u001b[0m\n\u001b[1;32m    317\u001b[0m     \u001b[0mself\u001b[0m\u001b[0;34m.\u001b[0m\u001b[0m_C4x\u001b[0m \u001b[0;34m=\u001b[0m \u001b[0mlist\u001b[0m\u001b[0;34m(\u001b[0m\u001b[0mrange\u001b[0m\u001b[0;34m(\u001b[0m\u001b[0mGeodesic\u001b[0m\u001b[0;34m.\u001b[0m\u001b[0mnC4x_\u001b[0m\u001b[0;34m)\u001b[0m\u001b[0;34m)\u001b[0m\u001b[0;34m\u001b[0m\u001b[0;34m\u001b[0m\u001b[0m\n\u001b[0;32m--> 318\u001b[0;31m     \u001b[0mself\u001b[0m\u001b[0;34m.\u001b[0m\u001b[0m_A3coeff\u001b[0m\u001b[0;34m(\u001b[0m\u001b[0;34m)\u001b[0m\u001b[0;34m\u001b[0m\u001b[0;34m\u001b[0m\u001b[0m\n\u001b[0m\u001b[1;32m    319\u001b[0m     \u001b[0mself\u001b[0m\u001b[0;34m.\u001b[0m\u001b[0m_C3coeff\u001b[0m\u001b[0;34m(\u001b[0m\u001b[0;34m)\u001b[0m\u001b[0;34m\u001b[0m\u001b[0;34m\u001b[0m\u001b[0m\n\u001b[1;32m    320\u001b[0m     \u001b[0mself\u001b[0m\u001b[0;34m.\u001b[0m\u001b[0m_C4coeff\u001b[0m\u001b[0;34m(\u001b[0m\u001b[0;34m)\u001b[0m\u001b[0;34m\u001b[0m\u001b[0;34m\u001b[0m\u001b[0m\n",
      "\u001b[0;32m~/Insight/noslipwalk/.venv/lib/python3.7/site-packages/geographiclib/geodesic.py\u001b[0m in \u001b[0;36m_A3coeff\u001b[0;34m(self)\u001b[0m\n\u001b[1;32m    333\u001b[0m     \u001b[0;32mfor\u001b[0m \u001b[0mj\u001b[0m \u001b[0;32min\u001b[0m \u001b[0mrange\u001b[0m\u001b[0;34m(\u001b[0m\u001b[0mGeodesic\u001b[0m\u001b[0;34m.\u001b[0m\u001b[0mnA3_\u001b[0m \u001b[0;34m-\u001b[0m \u001b[0;36m1\u001b[0m\u001b[0;34m,\u001b[0m \u001b[0;34m-\u001b[0m\u001b[0;36m1\u001b[0m\u001b[0;34m,\u001b[0m \u001b[0;34m-\u001b[0m\u001b[0;36m1\u001b[0m\u001b[0;34m)\u001b[0m\u001b[0;34m:\u001b[0m \u001b[0;31m# coeff of eps^j\u001b[0m\u001b[0;34m\u001b[0m\u001b[0;34m\u001b[0m\u001b[0m\n\u001b[1;32m    334\u001b[0m       \u001b[0mm\u001b[0m \u001b[0;34m=\u001b[0m \u001b[0mmin\u001b[0m\u001b[0;34m(\u001b[0m\u001b[0mGeodesic\u001b[0m\u001b[0;34m.\u001b[0m\u001b[0mnA3_\u001b[0m \u001b[0;34m-\u001b[0m \u001b[0mj\u001b[0m \u001b[0;34m-\u001b[0m \u001b[0;36m1\u001b[0m\u001b[0;34m,\u001b[0m \u001b[0mj\u001b[0m\u001b[0;34m)\u001b[0m \u001b[0;31m# order of polynomial in n\u001b[0m\u001b[0;34m\u001b[0m\u001b[0;34m\u001b[0m\u001b[0m\n\u001b[0;32m--> 335\u001b[0;31m       \u001b[0mself\u001b[0m\u001b[0;34m.\u001b[0m\u001b[0m_A3x\u001b[0m\u001b[0;34m[\u001b[0m\u001b[0mk\u001b[0m\u001b[0;34m]\u001b[0m \u001b[0;34m=\u001b[0m \u001b[0mMath\u001b[0m\u001b[0;34m.\u001b[0m\u001b[0mpolyval\u001b[0m\u001b[0;34m(\u001b[0m\u001b[0mm\u001b[0m\u001b[0;34m,\u001b[0m \u001b[0mcoeff\u001b[0m\u001b[0;34m,\u001b[0m \u001b[0mo\u001b[0m\u001b[0;34m,\u001b[0m \u001b[0mself\u001b[0m\u001b[0;34m.\u001b[0m\u001b[0m_n\u001b[0m\u001b[0;34m)\u001b[0m \u001b[0;34m/\u001b[0m \u001b[0mcoeff\u001b[0m\u001b[0;34m[\u001b[0m\u001b[0mo\u001b[0m \u001b[0;34m+\u001b[0m \u001b[0mm\u001b[0m \u001b[0;34m+\u001b[0m \u001b[0;36m1\u001b[0m\u001b[0;34m]\u001b[0m\u001b[0;34m\u001b[0m\u001b[0;34m\u001b[0m\u001b[0m\n\u001b[0m\u001b[1;32m    336\u001b[0m       \u001b[0mk\u001b[0m \u001b[0;34m+=\u001b[0m \u001b[0;36m1\u001b[0m\u001b[0;34m\u001b[0m\u001b[0;34m\u001b[0m\u001b[0m\n\u001b[1;32m    337\u001b[0m       \u001b[0mo\u001b[0m \u001b[0;34m+=\u001b[0m \u001b[0mm\u001b[0m \u001b[0;34m+\u001b[0m \u001b[0;36m2\u001b[0m\u001b[0;34m\u001b[0m\u001b[0;34m\u001b[0m\u001b[0m\n",
      "\u001b[0;31mKeyboardInterrupt\u001b[0m: "
     ]
    }
   ],
   "source": [
    "# running over the tickets, cutting part of the identifierLocation DataaFrame close to each \n",
    "# ticket location, and finding the closest match building wise:\n",
    "\n",
    "lat_radius=abs(tickets['lat'].min()-tickets['lat'].max())/25\n",
    "lon_radius = abs(tickets['lon'].min()-tickets['lon'].max())/25\n",
    "\n",
    "tickets_feature = pd.DataFrame()\n",
    "for i in range(0,tickets.shape[0]):\n",
    "    lat = tickets['lat'].iloc[i]\n",
    "    lon = tickets['lon'].iloc[i]\n",
    "    minLat = lat-lat_radius\n",
    "    maxLat = lat+lat_radius\n",
    "    minLon = lon-lon_radius\n",
    "    maxLon = lon+lon_radius\n",
    "    df = identifierLocation[identifierLocation['lat']<maxLat]\n",
    "    df = df[df['lat']>minLat]\n",
    "    df = df[df['lon']<maxLon]\n",
    "    df = df[df['lon']>minLon]\n",
    "    #print(df.shape[0])\n",
    "    # df now contains all the buildings withing the given lat/lon circle around the ticket location.\n",
    "    # one of these buildings is the one that received the ticket:\n",
    "    nearestBuildingIloc = find_nearest_building(df,lat,lon)\n",
    "    tmp = df.iloc[nearestBuildingIloc]\n",
    "    tmp['date'] = tickets['OFFENSE DATE'].iloc[i]\n",
    "    tickets_feature = pd.concat([tickets_feature,tmp])"
   ]
  },
  {
   "cell_type": "code",
   "execution_count": null,
   "metadata": {},
   "outputs": [],
   "source": []
  }
 ],
 "metadata": {
  "kernelspec": {
   "display_name": "Python 3",
   "language": "python",
   "name": "python3"
  },
  "language_info": {
   "codemirror_mode": {
    "name": "ipython",
    "version": 3
   },
   "file_extension": ".py",
   "mimetype": "text/x-python",
   "name": "python",
   "nbconvert_exporter": "python",
   "pygments_lexer": "ipython3",
   "version": "3.7.4"
  }
 },
 "nbformat": 4,
 "nbformat_minor": 4
}
